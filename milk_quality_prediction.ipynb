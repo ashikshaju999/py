{
  "cells": [
    {
      "cell_type": "markdown",
      "metadata": {
        "id": "view-in-github",
        "colab_type": "text"
      },
      "source": [
        "<a href=\"https://colab.research.google.com/github/ashikshaju999/py/blob/master/milk_quality_prediction.ipynb\" target=\"_parent\"><img src=\"https://colab.research.google.com/assets/colab-badge.svg\" alt=\"Open In Colab\"/></a>"
      ]
    },
    {
      "cell_type": "markdown",
      "source": [
        "**About dataset**\n",
        "\n",
        "This dataset is manually collected from observations. It helps us to build machine learning models to predict the quality of milk.\n",
        "This dataset consists of 7 independent variables ie pH, Temperature, Taste, Odor, Fat, Turbidity, and Color.\n",
        "Generally, the Grade or Quality of the milk depends on these parameters. These parameters play a vital role in the predictive analysis of the milk.\n",
        "\n",
        "\n",
        "> pH: This Column defines PH alus of the milk which ranges from 3 to 9.5 max : 6.25 to 6.90\n",
        "\n",
        "\n",
        "\n",
        "> Temperature: This Column defines Temprature of the milk which ranges from 34'C to 90'C max : 34'C to 45.20'C\n",
        "\n",
        "> Taste: This Column defines Taste of the milk which is categorical data 0 (Bad) or 1 (Good) max : 1 (Good)\n",
        "\n",
        "> Odor: This Column defines Odor of the milk which is categorical data 0 (Bad) or 1 (Good) max : 0 (Bad)\n",
        "\n",
        "> Fat: This Column defines amount of Fat in the milk which is categorical data 0 (Low) or 1 (High) max : 1 (High)\n",
        "\n",
        "> Turbidity: This Column defines Turbidity of the milk which is categorical data 0 (Low) or 1 (High) max : 1 (High)\n",
        "\n",
        "> Colour: This Column defines Colour of the milk which ranges from 240 to 255 max : 255\n",
        "\n",
        "> Grade: This Column defines Grade (Target) of the milk which is categorical data Where Low (Bad) or Medium (Moderate) High\n"
      ],
      "metadata": {
        "id": "9mLtb7J8SbrF"
      },
      "id": "9mLtb7J8SbrF"
    },
    {
      "cell_type": "markdown",
      "id": "dabddfbe",
      "metadata": {
        "papermill": {
          "duration": 0.01009,
          "end_time": "2022-08-14T08:18:40.448942",
          "exception": false,
          "start_time": "2022-08-14T08:18:40.438852",
          "status": "completed"
        },
        "tags": [],
        "id": "dabddfbe"
      },
      "source": [
        "# Milk Quality Prediction\n",
        "\n",
        "Target\n",
        "\n",
        "1-Low (Bad)\n",
        "\n",
        "2-Medium (Moderate)\n",
        "\n",
        "0-High (Good)\n",
        "\n",
        "If Taste, Odor, Fat, and Turbidity are satisfied with optimal conditions then they will assign 1 otherwise 0."
      ]
    },
    {
      "cell_type": "markdown",
      "id": "f93e6023",
      "metadata": {
        "papermill": {
          "duration": 0.00818,
          "end_time": "2022-08-14T08:18:40.483561",
          "exception": false,
          "start_time": "2022-08-14T08:18:40.475381",
          "status": "completed"
        },
        "tags": [],
        "id": "f93e6023"
      },
      "source": [
        "## Imports"
      ]
    },
    {
      "cell_type": "code",
      "execution_count": 1,
      "id": "3d163a0d",
      "metadata": {
        "execution": {
          "iopub.execute_input": "2022-08-14T08:18:40.504418Z",
          "iopub.status.busy": "2022-08-14T08:18:40.503022Z",
          "iopub.status.idle": "2022-08-14T08:18:41.655887Z",
          "shell.execute_reply": "2022-08-14T08:18:41.654572Z"
        },
        "papermill": {
          "duration": 1.166986,
          "end_time": "2022-08-14T08:18:41.659100",
          "exception": false,
          "start_time": "2022-08-14T08:18:40.492114",
          "status": "completed"
        },
        "tags": [],
        "id": "3d163a0d"
      },
      "outputs": [],
      "source": [
        "#Importing necessary Libraries\n",
        "import numpy as np\n",
        "import pandas as pd\n",
        "\n",
        "import seaborn as sns\n",
        "import matplotlib.pyplot as plt\n",
        "\n",
        "import warnings\n",
        "warnings.filterwarnings(\"ignore\")"
      ]
    },
    {
      "cell_type": "markdown",
      "id": "6e0e40d0",
      "metadata": {
        "papermill": {
          "duration": 0.008607,
          "end_time": "2022-08-14T08:18:41.677147",
          "exception": false,
          "start_time": "2022-08-14T08:18:41.668540",
          "status": "completed"
        },
        "tags": [],
        "id": "6e0e40d0"
      },
      "source": [
        "## Loading the data"
      ]
    },
    {
      "cell_type": "code",
      "execution_count": 2,
      "id": "82defc67",
      "metadata": {
        "execution": {
          "iopub.execute_input": "2022-08-14T08:18:41.697008Z",
          "iopub.status.busy": "2022-08-14T08:18:41.696141Z",
          "iopub.status.idle": "2022-08-14T08:18:41.715115Z",
          "shell.execute_reply": "2022-08-14T08:18:41.714209Z"
        },
        "papermill": {
          "duration": 0.031994,
          "end_time": "2022-08-14T08:18:41.717830",
          "exception": false,
          "start_time": "2022-08-14T08:18:41.685836",
          "status": "completed"
        },
        "tags": [],
        "id": "82defc67"
      },
      "outputs": [],
      "source": [
        "df = pd.read_csv('/content/milknew.csv')"
      ]
    },
    {
      "cell_type": "code",
      "source": [
        "df"
      ],
      "metadata": {
        "colab": {
          "base_uri": "https://localhost:8080/",
          "height": 424
        },
        "id": "tX64c3FrNxVK",
        "outputId": "da699ccf-07f1-4927-f49e-cb627ef26c91"
      },
      "id": "tX64c3FrNxVK",
      "execution_count": 3,
      "outputs": [
        {
          "output_type": "execute_result",
          "data": {
            "text/plain": [
              "       pH  Temprature  Taste  Odor  Fat   Turbidity  Colour   Grade\n",
              "0     6.6          35      1     0     1          0     254    high\n",
              "1     6.6          36      0     1     0          1     253    high\n",
              "2     8.5          70      1     1     1          1     246     low\n",
              "3     9.5          34      1     1     0          1     255     low\n",
              "4     6.6          37      0     0     0          0     255  medium\n",
              "...   ...         ...    ...   ...   ...        ...     ...     ...\n",
              "1054  6.7          45      1     1     0          0     247  medium\n",
              "1055  6.7          38      1     0     1          0     255    high\n",
              "1056  3.0          40      1     1     1          1     255     low\n",
              "1057  6.8          43      1     0     1          0     250    high\n",
              "1058  8.6          55      0     1     1          1     255     low\n",
              "\n",
              "[1059 rows x 8 columns]"
            ],
            "text/html": [
              "\n",
              "  <div id=\"df-e4e9e51e-0cf4-427a-9642-69634a333a33\">\n",
              "    <div class=\"colab-df-container\">\n",
              "      <div>\n",
              "<style scoped>\n",
              "    .dataframe tbody tr th:only-of-type {\n",
              "        vertical-align: middle;\n",
              "    }\n",
              "\n",
              "    .dataframe tbody tr th {\n",
              "        vertical-align: top;\n",
              "    }\n",
              "\n",
              "    .dataframe thead th {\n",
              "        text-align: right;\n",
              "    }\n",
              "</style>\n",
              "<table border=\"1\" class=\"dataframe\">\n",
              "  <thead>\n",
              "    <tr style=\"text-align: right;\">\n",
              "      <th></th>\n",
              "      <th>pH</th>\n",
              "      <th>Temprature</th>\n",
              "      <th>Taste</th>\n",
              "      <th>Odor</th>\n",
              "      <th>Fat</th>\n",
              "      <th>Turbidity</th>\n",
              "      <th>Colour</th>\n",
              "      <th>Grade</th>\n",
              "    </tr>\n",
              "  </thead>\n",
              "  <tbody>\n",
              "    <tr>\n",
              "      <th>0</th>\n",
              "      <td>6.6</td>\n",
              "      <td>35</td>\n",
              "      <td>1</td>\n",
              "      <td>0</td>\n",
              "      <td>1</td>\n",
              "      <td>0</td>\n",
              "      <td>254</td>\n",
              "      <td>high</td>\n",
              "    </tr>\n",
              "    <tr>\n",
              "      <th>1</th>\n",
              "      <td>6.6</td>\n",
              "      <td>36</td>\n",
              "      <td>0</td>\n",
              "      <td>1</td>\n",
              "      <td>0</td>\n",
              "      <td>1</td>\n",
              "      <td>253</td>\n",
              "      <td>high</td>\n",
              "    </tr>\n",
              "    <tr>\n",
              "      <th>2</th>\n",
              "      <td>8.5</td>\n",
              "      <td>70</td>\n",
              "      <td>1</td>\n",
              "      <td>1</td>\n",
              "      <td>1</td>\n",
              "      <td>1</td>\n",
              "      <td>246</td>\n",
              "      <td>low</td>\n",
              "    </tr>\n",
              "    <tr>\n",
              "      <th>3</th>\n",
              "      <td>9.5</td>\n",
              "      <td>34</td>\n",
              "      <td>1</td>\n",
              "      <td>1</td>\n",
              "      <td>0</td>\n",
              "      <td>1</td>\n",
              "      <td>255</td>\n",
              "      <td>low</td>\n",
              "    </tr>\n",
              "    <tr>\n",
              "      <th>4</th>\n",
              "      <td>6.6</td>\n",
              "      <td>37</td>\n",
              "      <td>0</td>\n",
              "      <td>0</td>\n",
              "      <td>0</td>\n",
              "      <td>0</td>\n",
              "      <td>255</td>\n",
              "      <td>medium</td>\n",
              "    </tr>\n",
              "    <tr>\n",
              "      <th>...</th>\n",
              "      <td>...</td>\n",
              "      <td>...</td>\n",
              "      <td>...</td>\n",
              "      <td>...</td>\n",
              "      <td>...</td>\n",
              "      <td>...</td>\n",
              "      <td>...</td>\n",
              "      <td>...</td>\n",
              "    </tr>\n",
              "    <tr>\n",
              "      <th>1054</th>\n",
              "      <td>6.7</td>\n",
              "      <td>45</td>\n",
              "      <td>1</td>\n",
              "      <td>1</td>\n",
              "      <td>0</td>\n",
              "      <td>0</td>\n",
              "      <td>247</td>\n",
              "      <td>medium</td>\n",
              "    </tr>\n",
              "    <tr>\n",
              "      <th>1055</th>\n",
              "      <td>6.7</td>\n",
              "      <td>38</td>\n",
              "      <td>1</td>\n",
              "      <td>0</td>\n",
              "      <td>1</td>\n",
              "      <td>0</td>\n",
              "      <td>255</td>\n",
              "      <td>high</td>\n",
              "    </tr>\n",
              "    <tr>\n",
              "      <th>1056</th>\n",
              "      <td>3.0</td>\n",
              "      <td>40</td>\n",
              "      <td>1</td>\n",
              "      <td>1</td>\n",
              "      <td>1</td>\n",
              "      <td>1</td>\n",
              "      <td>255</td>\n",
              "      <td>low</td>\n",
              "    </tr>\n",
              "    <tr>\n",
              "      <th>1057</th>\n",
              "      <td>6.8</td>\n",
              "      <td>43</td>\n",
              "      <td>1</td>\n",
              "      <td>0</td>\n",
              "      <td>1</td>\n",
              "      <td>0</td>\n",
              "      <td>250</td>\n",
              "      <td>high</td>\n",
              "    </tr>\n",
              "    <tr>\n",
              "      <th>1058</th>\n",
              "      <td>8.6</td>\n",
              "      <td>55</td>\n",
              "      <td>0</td>\n",
              "      <td>1</td>\n",
              "      <td>1</td>\n",
              "      <td>1</td>\n",
              "      <td>255</td>\n",
              "      <td>low</td>\n",
              "    </tr>\n",
              "  </tbody>\n",
              "</table>\n",
              "<p>1059 rows × 8 columns</p>\n",
              "</div>\n",
              "      <button class=\"colab-df-convert\" onclick=\"convertToInteractive('df-e4e9e51e-0cf4-427a-9642-69634a333a33')\"\n",
              "              title=\"Convert this dataframe to an interactive table.\"\n",
              "              style=\"display:none;\">\n",
              "        \n",
              "  <svg xmlns=\"http://www.w3.org/2000/svg\" height=\"24px\"viewBox=\"0 0 24 24\"\n",
              "       width=\"24px\">\n",
              "    <path d=\"M0 0h24v24H0V0z\" fill=\"none\"/>\n",
              "    <path d=\"M18.56 5.44l.94 2.06.94-2.06 2.06-.94-2.06-.94-.94-2.06-.94 2.06-2.06.94zm-11 1L8.5 8.5l.94-2.06 2.06-.94-2.06-.94L8.5 2.5l-.94 2.06-2.06.94zm10 10l.94 2.06.94-2.06 2.06-.94-2.06-.94-.94-2.06-.94 2.06-2.06.94z\"/><path d=\"M17.41 7.96l-1.37-1.37c-.4-.4-.92-.59-1.43-.59-.52 0-1.04.2-1.43.59L10.3 9.45l-7.72 7.72c-.78.78-.78 2.05 0 2.83L4 21.41c.39.39.9.59 1.41.59.51 0 1.02-.2 1.41-.59l7.78-7.78 2.81-2.81c.8-.78.8-2.07 0-2.86zM5.41 20L4 18.59l7.72-7.72 1.47 1.35L5.41 20z\"/>\n",
              "  </svg>\n",
              "      </button>\n",
              "      \n",
              "  <style>\n",
              "    .colab-df-container {\n",
              "      display:flex;\n",
              "      flex-wrap:wrap;\n",
              "      gap: 12px;\n",
              "    }\n",
              "\n",
              "    .colab-df-convert {\n",
              "      background-color: #E8F0FE;\n",
              "      border: none;\n",
              "      border-radius: 50%;\n",
              "      cursor: pointer;\n",
              "      display: none;\n",
              "      fill: #1967D2;\n",
              "      height: 32px;\n",
              "      padding: 0 0 0 0;\n",
              "      width: 32px;\n",
              "    }\n",
              "\n",
              "    .colab-df-convert:hover {\n",
              "      background-color: #E2EBFA;\n",
              "      box-shadow: 0px 1px 2px rgba(60, 64, 67, 0.3), 0px 1px 3px 1px rgba(60, 64, 67, 0.15);\n",
              "      fill: #174EA6;\n",
              "    }\n",
              "\n",
              "    [theme=dark] .colab-df-convert {\n",
              "      background-color: #3B4455;\n",
              "      fill: #D2E3FC;\n",
              "    }\n",
              "\n",
              "    [theme=dark] .colab-df-convert:hover {\n",
              "      background-color: #434B5C;\n",
              "      box-shadow: 0px 1px 3px 1px rgba(0, 0, 0, 0.15);\n",
              "      filter: drop-shadow(0px 1px 2px rgba(0, 0, 0, 0.3));\n",
              "      fill: #FFFFFF;\n",
              "    }\n",
              "  </style>\n",
              "\n",
              "      <script>\n",
              "        const buttonEl =\n",
              "          document.querySelector('#df-e4e9e51e-0cf4-427a-9642-69634a333a33 button.colab-df-convert');\n",
              "        buttonEl.style.display =\n",
              "          google.colab.kernel.accessAllowed ? 'block' : 'none';\n",
              "\n",
              "        async function convertToInteractive(key) {\n",
              "          const element = document.querySelector('#df-e4e9e51e-0cf4-427a-9642-69634a333a33');\n",
              "          const dataTable =\n",
              "            await google.colab.kernel.invokeFunction('convertToInteractive',\n",
              "                                                     [key], {});\n",
              "          if (!dataTable) return;\n",
              "\n",
              "          const docLinkHtml = 'Like what you see? Visit the ' +\n",
              "            '<a target=\"_blank\" href=https://colab.research.google.com/notebooks/data_table.ipynb>data table notebook</a>'\n",
              "            + ' to learn more about interactive tables.';\n",
              "          element.innerHTML = '';\n",
              "          dataTable['output_type'] = 'display_data';\n",
              "          await google.colab.output.renderOutput(dataTable, element);\n",
              "          const docLink = document.createElement('div');\n",
              "          docLink.innerHTML = docLinkHtml;\n",
              "          element.appendChild(docLink);\n",
              "        }\n",
              "      </script>\n",
              "    </div>\n",
              "  </div>\n",
              "  "
            ]
          },
          "metadata": {},
          "execution_count": 3
        }
      ]
    },
    {
      "cell_type": "markdown",
      "id": "082cea6a",
      "metadata": {
        "papermill": {
          "duration": 0.008536,
          "end_time": "2022-08-14T08:18:41.735464",
          "exception": false,
          "start_time": "2022-08-14T08:18:41.726928",
          "status": "completed"
        },
        "tags": [],
        "id": "082cea6a"
      },
      "source": [
        "## Data pre-processing and EDA"
      ]
    },
    {
      "cell_type": "code",
      "execution_count": 4,
      "id": "2d63a0d4",
      "metadata": {
        "execution": {
          "iopub.execute_input": "2022-08-14T08:18:41.756591Z",
          "iopub.status.busy": "2022-08-14T08:18:41.755717Z",
          "iopub.status.idle": "2022-08-14T08:18:41.779134Z",
          "shell.execute_reply": "2022-08-14T08:18:41.777956Z"
        },
        "papermill": {
          "duration": 0.036937,
          "end_time": "2022-08-14T08:18:41.782256",
          "exception": false,
          "start_time": "2022-08-14T08:18:41.745319",
          "status": "completed"
        },
        "tags": [],
        "colab": {
          "base_uri": "https://localhost:8080/",
          "height": 206
        },
        "id": "2d63a0d4",
        "outputId": "cbb99d0c-e235-47d0-c36d-48243e8a1bd4"
      },
      "outputs": [
        {
          "output_type": "execute_result",
          "data": {
            "text/plain": [
              "    pH  Temprature  Taste  Odor  Fat   Turbidity  Colour   Grade\n",
              "0  6.6          35      1     0     1          0     254    high\n",
              "1  6.6          36      0     1     0          1     253    high\n",
              "2  8.5          70      1     1     1          1     246     low\n",
              "3  9.5          34      1     1     0          1     255     low\n",
              "4  6.6          37      0     0     0          0     255  medium"
            ],
            "text/html": [
              "\n",
              "  <div id=\"df-1fc6c122-403b-41b5-b6b8-6e5699809f13\">\n",
              "    <div class=\"colab-df-container\">\n",
              "      <div>\n",
              "<style scoped>\n",
              "    .dataframe tbody tr th:only-of-type {\n",
              "        vertical-align: middle;\n",
              "    }\n",
              "\n",
              "    .dataframe tbody tr th {\n",
              "        vertical-align: top;\n",
              "    }\n",
              "\n",
              "    .dataframe thead th {\n",
              "        text-align: right;\n",
              "    }\n",
              "</style>\n",
              "<table border=\"1\" class=\"dataframe\">\n",
              "  <thead>\n",
              "    <tr style=\"text-align: right;\">\n",
              "      <th></th>\n",
              "      <th>pH</th>\n",
              "      <th>Temprature</th>\n",
              "      <th>Taste</th>\n",
              "      <th>Odor</th>\n",
              "      <th>Fat</th>\n",
              "      <th>Turbidity</th>\n",
              "      <th>Colour</th>\n",
              "      <th>Grade</th>\n",
              "    </tr>\n",
              "  </thead>\n",
              "  <tbody>\n",
              "    <tr>\n",
              "      <th>0</th>\n",
              "      <td>6.6</td>\n",
              "      <td>35</td>\n",
              "      <td>1</td>\n",
              "      <td>0</td>\n",
              "      <td>1</td>\n",
              "      <td>0</td>\n",
              "      <td>254</td>\n",
              "      <td>high</td>\n",
              "    </tr>\n",
              "    <tr>\n",
              "      <th>1</th>\n",
              "      <td>6.6</td>\n",
              "      <td>36</td>\n",
              "      <td>0</td>\n",
              "      <td>1</td>\n",
              "      <td>0</td>\n",
              "      <td>1</td>\n",
              "      <td>253</td>\n",
              "      <td>high</td>\n",
              "    </tr>\n",
              "    <tr>\n",
              "      <th>2</th>\n",
              "      <td>8.5</td>\n",
              "      <td>70</td>\n",
              "      <td>1</td>\n",
              "      <td>1</td>\n",
              "      <td>1</td>\n",
              "      <td>1</td>\n",
              "      <td>246</td>\n",
              "      <td>low</td>\n",
              "    </tr>\n",
              "    <tr>\n",
              "      <th>3</th>\n",
              "      <td>9.5</td>\n",
              "      <td>34</td>\n",
              "      <td>1</td>\n",
              "      <td>1</td>\n",
              "      <td>0</td>\n",
              "      <td>1</td>\n",
              "      <td>255</td>\n",
              "      <td>low</td>\n",
              "    </tr>\n",
              "    <tr>\n",
              "      <th>4</th>\n",
              "      <td>6.6</td>\n",
              "      <td>37</td>\n",
              "      <td>0</td>\n",
              "      <td>0</td>\n",
              "      <td>0</td>\n",
              "      <td>0</td>\n",
              "      <td>255</td>\n",
              "      <td>medium</td>\n",
              "    </tr>\n",
              "  </tbody>\n",
              "</table>\n",
              "</div>\n",
              "      <button class=\"colab-df-convert\" onclick=\"convertToInteractive('df-1fc6c122-403b-41b5-b6b8-6e5699809f13')\"\n",
              "              title=\"Convert this dataframe to an interactive table.\"\n",
              "              style=\"display:none;\">\n",
              "        \n",
              "  <svg xmlns=\"http://www.w3.org/2000/svg\" height=\"24px\"viewBox=\"0 0 24 24\"\n",
              "       width=\"24px\">\n",
              "    <path d=\"M0 0h24v24H0V0z\" fill=\"none\"/>\n",
              "    <path d=\"M18.56 5.44l.94 2.06.94-2.06 2.06-.94-2.06-.94-.94-2.06-.94 2.06-2.06.94zm-11 1L8.5 8.5l.94-2.06 2.06-.94-2.06-.94L8.5 2.5l-.94 2.06-2.06.94zm10 10l.94 2.06.94-2.06 2.06-.94-2.06-.94-.94-2.06-.94 2.06-2.06.94z\"/><path d=\"M17.41 7.96l-1.37-1.37c-.4-.4-.92-.59-1.43-.59-.52 0-1.04.2-1.43.59L10.3 9.45l-7.72 7.72c-.78.78-.78 2.05 0 2.83L4 21.41c.39.39.9.59 1.41.59.51 0 1.02-.2 1.41-.59l7.78-7.78 2.81-2.81c.8-.78.8-2.07 0-2.86zM5.41 20L4 18.59l7.72-7.72 1.47 1.35L5.41 20z\"/>\n",
              "  </svg>\n",
              "      </button>\n",
              "      \n",
              "  <style>\n",
              "    .colab-df-container {\n",
              "      display:flex;\n",
              "      flex-wrap:wrap;\n",
              "      gap: 12px;\n",
              "    }\n",
              "\n",
              "    .colab-df-convert {\n",
              "      background-color: #E8F0FE;\n",
              "      border: none;\n",
              "      border-radius: 50%;\n",
              "      cursor: pointer;\n",
              "      display: none;\n",
              "      fill: #1967D2;\n",
              "      height: 32px;\n",
              "      padding: 0 0 0 0;\n",
              "      width: 32px;\n",
              "    }\n",
              "\n",
              "    .colab-df-convert:hover {\n",
              "      background-color: #E2EBFA;\n",
              "      box-shadow: 0px 1px 2px rgba(60, 64, 67, 0.3), 0px 1px 3px 1px rgba(60, 64, 67, 0.15);\n",
              "      fill: #174EA6;\n",
              "    }\n",
              "\n",
              "    [theme=dark] .colab-df-convert {\n",
              "      background-color: #3B4455;\n",
              "      fill: #D2E3FC;\n",
              "    }\n",
              "\n",
              "    [theme=dark] .colab-df-convert:hover {\n",
              "      background-color: #434B5C;\n",
              "      box-shadow: 0px 1px 3px 1px rgba(0, 0, 0, 0.15);\n",
              "      filter: drop-shadow(0px 1px 2px rgba(0, 0, 0, 0.3));\n",
              "      fill: #FFFFFF;\n",
              "    }\n",
              "  </style>\n",
              "\n",
              "      <script>\n",
              "        const buttonEl =\n",
              "          document.querySelector('#df-1fc6c122-403b-41b5-b6b8-6e5699809f13 button.colab-df-convert');\n",
              "        buttonEl.style.display =\n",
              "          google.colab.kernel.accessAllowed ? 'block' : 'none';\n",
              "\n",
              "        async function convertToInteractive(key) {\n",
              "          const element = document.querySelector('#df-1fc6c122-403b-41b5-b6b8-6e5699809f13');\n",
              "          const dataTable =\n",
              "            await google.colab.kernel.invokeFunction('convertToInteractive',\n",
              "                                                     [key], {});\n",
              "          if (!dataTable) return;\n",
              "\n",
              "          const docLinkHtml = 'Like what you see? Visit the ' +\n",
              "            '<a target=\"_blank\" href=https://colab.research.google.com/notebooks/data_table.ipynb>data table notebook</a>'\n",
              "            + ' to learn more about interactive tables.';\n",
              "          element.innerHTML = '';\n",
              "          dataTable['output_type'] = 'display_data';\n",
              "          await google.colab.output.renderOutput(dataTable, element);\n",
              "          const docLink = document.createElement('div');\n",
              "          docLink.innerHTML = docLinkHtml;\n",
              "          element.appendChild(docLink);\n",
              "        }\n",
              "      </script>\n",
              "    </div>\n",
              "  </div>\n",
              "  "
            ]
          },
          "metadata": {},
          "execution_count": 4
        }
      ],
      "source": [
        "df.head()"
      ]
    },
    {
      "cell_type": "code",
      "execution_count": 5,
      "id": "19f79bbf",
      "metadata": {
        "execution": {
          "iopub.execute_input": "2022-08-14T08:18:41.802507Z",
          "iopub.status.busy": "2022-08-14T08:18:41.801890Z",
          "iopub.status.idle": "2022-08-14T08:18:41.827544Z",
          "shell.execute_reply": "2022-08-14T08:18:41.825664Z"
        },
        "papermill": {
          "duration": 0.038534,
          "end_time": "2022-08-14T08:18:41.830036",
          "exception": false,
          "start_time": "2022-08-14T08:18:41.791502",
          "status": "completed"
        },
        "tags": [],
        "colab": {
          "base_uri": "https://localhost:8080/"
        },
        "id": "19f79bbf",
        "outputId": "b4a44890-9c08-4e9c-fe7a-47db7f07925a"
      },
      "outputs": [
        {
          "output_type": "stream",
          "name": "stdout",
          "text": [
            "<class 'pandas.core.frame.DataFrame'>\n",
            "RangeIndex: 1059 entries, 0 to 1058\n",
            "Data columns (total 8 columns):\n",
            " #   Column      Non-Null Count  Dtype  \n",
            "---  ------      --------------  -----  \n",
            " 0   pH          1059 non-null   float64\n",
            " 1   Temprature  1059 non-null   int64  \n",
            " 2   Taste       1059 non-null   int64  \n",
            " 3   Odor        1059 non-null   int64  \n",
            " 4   Fat         1059 non-null   int64  \n",
            " 5   Turbidity   1059 non-null   int64  \n",
            " 6   Colour      1059 non-null   int64  \n",
            " 7   Grade       1059 non-null   object \n",
            "dtypes: float64(1), int64(6), object(1)\n",
            "memory usage: 66.3+ KB\n"
          ]
        }
      ],
      "source": [
        "df.info()"
      ]
    },
    {
      "cell_type": "code",
      "execution_count": 6,
      "id": "d471bb91",
      "metadata": {
        "execution": {
          "iopub.execute_input": "2022-08-14T08:18:41.851213Z",
          "iopub.status.busy": "2022-08-14T08:18:41.849856Z",
          "iopub.status.idle": "2022-08-14T08:18:41.857253Z",
          "shell.execute_reply": "2022-08-14T08:18:41.856398Z"
        },
        "papermill": {
          "duration": 0.020222,
          "end_time": "2022-08-14T08:18:41.859291",
          "exception": false,
          "start_time": "2022-08-14T08:18:41.839069",
          "status": "completed"
        },
        "tags": [],
        "colab": {
          "base_uri": "https://localhost:8080/"
        },
        "id": "d471bb91",
        "outputId": "3cf12bdf-e9ab-4fde-b571-efd982ccf263"
      },
      "outputs": [
        {
          "output_type": "execute_result",
          "data": {
            "text/plain": [
              "(1059, 8)"
            ]
          },
          "metadata": {},
          "execution_count": 6
        }
      ],
      "source": [
        "df.shape"
      ]
    },
    {
      "cell_type": "code",
      "execution_count": 7,
      "id": "f3ac979f",
      "metadata": {
        "execution": {
          "iopub.execute_input": "2022-08-14T08:18:41.879768Z",
          "iopub.status.busy": "2022-08-14T08:18:41.879114Z",
          "iopub.status.idle": "2022-08-14T08:18:41.885623Z",
          "shell.execute_reply": "2022-08-14T08:18:41.884700Z"
        },
        "papermill": {
          "duration": 0.019255,
          "end_time": "2022-08-14T08:18:41.887679",
          "exception": false,
          "start_time": "2022-08-14T08:18:41.868424",
          "status": "completed"
        },
        "tags": [],
        "colab": {
          "base_uri": "https://localhost:8080/"
        },
        "id": "f3ac979f",
        "outputId": "6cdefa89-3c05-47e3-c89d-0ce9e8848781"
      },
      "outputs": [
        {
          "output_type": "execute_result",
          "data": {
            "text/plain": [
              "Index(['pH', 'Temprature', 'Taste', 'Odor', 'Fat ', 'Turbidity', 'Colour',\n",
              "       'Grade'],\n",
              "      dtype='object')"
            ]
          },
          "metadata": {},
          "execution_count": 7
        }
      ],
      "source": [
        "df.columns"
      ]
    },
    {
      "cell_type": "code",
      "execution_count": 8,
      "id": "c56be2eb",
      "metadata": {
        "papermill": {
          "duration": 0.008865,
          "end_time": "2022-08-14T08:18:41.905778",
          "exception": false,
          "start_time": "2022-08-14T08:18:41.896913",
          "status": "completed"
        },
        "tags": [],
        "id": "c56be2eb",
        "colab": {
          "base_uri": "https://localhost:8080/"
        },
        "outputId": "bdb471cb-be02-4ae8-e3cd-7d0ff75363bc"
      },
      "outputs": [
        {
          "output_type": "execute_result",
          "data": {
            "text/plain": [
              "pH            0\n",
              "Temprature    0\n",
              "Taste         0\n",
              "Odor          0\n",
              "Fat           0\n",
              "Turbidity     0\n",
              "Colour        0\n",
              "Grade         0\n",
              "dtype: int64"
            ]
          },
          "metadata": {},
          "execution_count": 8
        }
      ],
      "source": [
        "df.isna().sum()"
      ]
    },
    {
      "cell_type": "markdown",
      "source": [
        "**Exploratory data analysis (EDA)**"
      ],
      "metadata": {
        "id": "x_0GMd5vCPcr"
      },
      "id": "x_0GMd5vCPcr"
    },
    {
      "cell_type": "code",
      "execution_count": 9,
      "id": "d77660fd",
      "metadata": {
        "execution": {
          "iopub.execute_input": "2022-08-14T08:18:41.926381Z",
          "iopub.status.busy": "2022-08-14T08:18:41.925553Z",
          "iopub.status.idle": "2022-08-14T08:18:42.149778Z",
          "shell.execute_reply": "2022-08-14T08:18:42.148828Z"
        },
        "papermill": {
          "duration": 0.23706,
          "end_time": "2022-08-14T08:18:42.151922",
          "exception": false,
          "start_time": "2022-08-14T08:18:41.914862",
          "status": "completed"
        },
        "tags": [],
        "colab": {
          "base_uri": "https://localhost:8080/",
          "height": 447
        },
        "id": "d77660fd",
        "outputId": "11704c85-7e41-446e-eb74-bfb03b946e7c"
      },
      "outputs": [
        {
          "output_type": "execute_result",
          "data": {
            "text/plain": [
              "Text(0.5, 1.0, 'Grade v/s colour')"
            ]
          },
          "metadata": {},
          "execution_count": 9
        },
        {
          "output_type": "display_data",
          "data": {
            "text/plain": [
              "<Figure size 864x432 with 1 Axes>"
            ],
            "image/png": "[encoded data removed]"
          },
          "metadata": {
            "needs_background": "light"
          }
        }
      ],
      "source": [
        "plt.figure(figsize = (12, 6))\n",
        "ax = sns.boxplot(x='Grade', y='Colour', data=df)\n",
        "plt.setp(ax.artists, alpha=.5, linewidth=2, edgecolor=\"k\")\n",
        "plt.xticks(rotation=45)\n",
        "plt.title('Grade v/s colour')"
      ]
    },
    {
      "cell_type": "code",
      "execution_count": 10,
      "id": "7cee3b67",
      "metadata": {
        "execution": {
          "iopub.execute_input": "2022-08-14T08:18:42.173654Z",
          "iopub.status.busy": "2022-08-14T08:18:42.172433Z",
          "iopub.status.idle": "2022-08-14T08:18:42.339107Z",
          "shell.execute_reply": "2022-08-14T08:18:42.338187Z"
        },
        "papermill": {
          "duration": 0.179871,
          "end_time": "2022-08-14T08:18:42.341362",
          "exception": false,
          "start_time": "2022-08-14T08:18:42.161491",
          "status": "completed"
        },
        "tags": [],
        "colab": {
          "base_uri": "https://localhost:8080/",
          "height": 447
        },
        "id": "7cee3b67",
        "outputId": "81bcf909-c378-4ea0-845a-8db46530a67c"
      },
      "outputs": [
        {
          "output_type": "execute_result",
          "data": {
            "text/plain": [
              "Text(0.5, 1.0, 'Grade v/s Turbidity')"
            ]
          },
          "metadata": {},
          "execution_count": 10
        },
        {
          "output_type": "display_data",
          "data": {
            "text/plain": [
              "<Figure size 864x432 with 1 Axes>"
            ],
            "image/png": "[encoded data removed]"
          },
          "metadata": {
            "needs_background": "light"
          }
        }
      ],
      "source": [
        "plt.figure(figsize = (12, 6))\n",
        "ax = sns.boxplot(x='Grade', y='Turbidity', data=df)\n",
        "plt.setp(ax.artists, alpha=.5, linewidth=2, edgecolor=\"k\")\n",
        "plt.xticks(rotation=45)\n",
        "plt.title('Grade v/s Turbidity')"
      ]
    },
    {
      "cell_type": "code",
      "execution_count": 11,
      "id": "f5b608d5",
      "metadata": {
        "execution": {
          "iopub.execute_input": "2022-08-14T08:18:42.364906Z",
          "iopub.status.busy": "2022-08-14T08:18:42.363762Z",
          "iopub.status.idle": "2022-08-14T08:18:42.531357Z",
          "shell.execute_reply": "2022-08-14T08:18:42.530131Z"
        },
        "papermill": {
          "duration": 0.182419,
          "end_time": "2022-08-14T08:18:42.534411",
          "exception": false,
          "start_time": "2022-08-14T08:18:42.351992",
          "status": "completed"
        },
        "tags": [],
        "colab": {
          "base_uri": "https://localhost:8080/",
          "height": 447
        },
        "id": "f5b608d5",
        "outputId": "e7dcf5e6-ddf5-4f1f-d83b-154b7a007842"
      },
      "outputs": [
        {
          "output_type": "execute_result",
          "data": {
            "text/plain": [
              "Text(0.5, 1.0, 'Grade v/s Fat ')"
            ]
          },
          "metadata": {},
          "execution_count": 11
        },
        {
          "output_type": "display_data",
          "data": {
            "text/plain": [
              "<Figure size 864x432 with 1 Axes>"
            ],
            "image/png": "[encoded data removed]"
          },
          "metadata": {
            "needs_background": "light"
          }
        }
      ],
      "source": [
        "plt.figure(figsize = (12, 6))\n",
        "ax = sns.boxplot(x='Grade', y='Fat ', data=df)\n",
        "plt.setp(ax.artists, alpha=.5, linewidth=2, edgecolor=\"k\")\n",
        "plt.xticks(rotation=45)\n",
        "plt.title('Grade v/s Fat ')"
      ]
    },
    {
      "cell_type": "code",
      "execution_count": 12,
      "id": "359a36ea",
      "metadata": {
        "execution": {
          "iopub.execute_input": "2022-08-14T08:18:42.560435Z",
          "iopub.status.busy": "2022-08-14T08:18:42.558426Z",
          "iopub.status.idle": "2022-08-14T08:18:42.727049Z",
          "shell.execute_reply": "2022-08-14T08:18:42.725694Z"
        },
        "papermill": {
          "duration": 0.185357,
          "end_time": "2022-08-14T08:18:42.730885",
          "exception": false,
          "start_time": "2022-08-14T08:18:42.545528",
          "status": "completed"
        },
        "tags": [],
        "colab": {
          "base_uri": "https://localhost:8080/",
          "height": 447
        },
        "id": "359a36ea",
        "outputId": "55282450-4e51-4867-f709-76c633e09eca"
      },
      "outputs": [
        {
          "output_type": "execute_result",
          "data": {
            "text/plain": [
              "Text(0.5, 1.0, 'Grade v/s Odor')"
            ]
          },
          "metadata": {},
          "execution_count": 12
        },
        {
          "output_type": "display_data",
          "data": {
            "text/plain": [
              "<Figure size 864x432 with 1 Axes>"
            ],
            "image/png": "[encoded data removed]"
          },
          "metadata": {
            "needs_background": "light"
          }
        }
      ],
      "source": [
        "plt.figure(figsize = (12, 6))\n",
        "ax = sns.boxplot(x='Grade', y='Odor', data=df)\n",
        "plt.setp(ax.artists, alpha=.5, linewidth=2, edgecolor=\"k\")\n",
        "plt.xticks(rotation=45)\n",
        "plt.title('Grade v/s Odor')"
      ]
    },
    {
      "cell_type": "code",
      "execution_count": 13,
      "id": "355e8bbc",
      "metadata": {
        "execution": {
          "iopub.execute_input": "2022-08-14T08:18:42.756507Z",
          "iopub.status.busy": "2022-08-14T08:18:42.755570Z",
          "iopub.status.idle": "2022-08-14T08:18:42.922830Z",
          "shell.execute_reply": "2022-08-14T08:18:42.921843Z"
        },
        "papermill": {
          "duration": 0.183215,
          "end_time": "2022-08-14T08:18:42.925531",
          "exception": false,
          "start_time": "2022-08-14T08:18:42.742316",
          "status": "completed"
        },
        "tags": [],
        "colab": {
          "base_uri": "https://localhost:8080/",
          "height": 447
        },
        "id": "355e8bbc",
        "outputId": "2bf863bc-540f-4f78-fc44-ba1dbd09412e"
      },
      "outputs": [
        {
          "output_type": "execute_result",
          "data": {
            "text/plain": [
              "Text(0.5, 1.0, 'Grade v/s pH')"
            ]
          },
          "metadata": {},
          "execution_count": 13
        },
        {
          "output_type": "display_data",
          "data": {
            "text/plain": [
              "<Figure size 864x432 with 1 Axes>"
            ],
            "image/png": "[encoded data removed]"
          },
          "metadata": {
            "needs_background": "light"
          }
        }
      ],
      "source": [
        "plt.figure(figsize = (12, 6))\n",
        "ax = sns.boxplot(x='Grade', y='pH', data=df)\n",
        "plt.setp(ax.artists, alpha=.5, linewidth=2, edgecolor=\"k\")\n",
        "plt.xticks(rotation=45)\n",
        "plt.title('Grade v/s pH')"
      ]
    },
    {
      "cell_type": "code",
      "execution_count": 14,
      "id": "1ae77608",
      "metadata": {
        "execution": {
          "iopub.execute_input": "2022-08-14T08:18:42.953009Z",
          "iopub.status.busy": "2022-08-14T08:18:42.951734Z",
          "iopub.status.idle": "2022-08-14T08:18:52.992777Z",
          "shell.execute_reply": "2022-08-14T08:18:52.991702Z"
        },
        "papermill": {
          "duration": 10.057359,
          "end_time": "2022-08-14T08:18:52.994987",
          "exception": false,
          "start_time": "2022-08-14T08:18:42.937628",
          "status": "completed"
        },
        "tags": [],
        "colab": {
          "base_uri": "https://localhost:8080/",
          "height": 1000
        },
        "id": "1ae77608",
        "outputId": "efb7abd2-1b08-4c9a-dbeb-d0df3dcc67c0"
      },
      "outputs": [
        {
          "output_type": "execute_result",
          "data": {
            "text/plain": [
              "<seaborn.axisgrid.PairGrid at 0x7f1eb2288a30>"
            ]
          },
          "metadata": {},
          "execution_count": 14
        },
        {
          "output_type": "display_data",
          "data": {
            "text/plain": [
              "<Figure size 2520x2520 with 56 Axes>"
            ],
            "image/png": "[encoded data removed]"
          },
          "metadata": {
            "needs_background": "light"
          }
        }
      ],
      "source": [
        "sns.pairplot(df,height=5)"
      ]
    },
    {
      "cell_type": "markdown",
      "id": "2f8d2e42",
      "metadata": {
        "papermill": {
          "duration": 0.013106,
          "end_time": "2022-08-14T08:18:53.049791",
          "exception": false,
          "start_time": "2022-08-14T08:18:53.036685",
          "status": "completed"
        },
        "tags": [],
        "id": "2f8d2e42"
      },
      "source": [
        "## Preparing the data"
      ]
    },
    {
      "cell_type": "code",
      "execution_count": 15,
      "id": "20b2b649",
      "metadata": {
        "execution": {
          "iopub.execute_input": "2022-08-14T08:18:53.079027Z",
          "iopub.status.busy": "2022-08-14T08:18:53.077540Z",
          "iopub.status.idle": "2022-08-14T08:18:53.242201Z",
          "shell.execute_reply": "2022-08-14T08:18:53.241023Z"
        },
        "papermill": {
          "duration": 0.18145,
          "end_time": "2022-08-14T08:18:53.244415",
          "exception": false,
          "start_time": "2022-08-14T08:18:53.062965",
          "status": "completed"
        },
        "tags": [],
        "colab": {
          "base_uri": "https://localhost:8080/"
        },
        "id": "20b2b649",
        "outputId": "371106dd-e948-4128-b0fe-f6b3afcef17c"
      },
      "outputs": [
        {
          "output_type": "execute_result",
          "data": {
            "text/plain": [
              "array([0, 1, 2])"
            ]
          },
          "metadata": {},
          "execution_count": 15
        }
      ],
      "source": [
        "from sklearn import preprocessing\n",
        "  \n",
        "# label_encoder object knows how to understand word labels.\n",
        "label_encoder = preprocessing.LabelEncoder()\n",
        "  \n",
        "# Encode labels in column 'species'.\n",
        "df['Grade']= label_encoder.fit_transform(df['Grade'])\n",
        "  \n",
        "df['Grade'].unique()"
      ]
    },
    {
      "cell_type": "code",
      "execution_count": 16,
      "id": "44133902",
      "metadata": {
        "execution": {
          "iopub.execute_input": "2022-08-14T08:18:53.274049Z",
          "iopub.status.busy": "2022-08-14T08:18:53.272461Z",
          "iopub.status.idle": "2022-08-14T08:18:53.669742Z",
          "shell.execute_reply": "2022-08-14T08:18:53.668387Z"
        },
        "papermill": {
          "duration": 0.414697,
          "end_time": "2022-08-14T08:18:53.672468",
          "exception": false,
          "start_time": "2022-08-14T08:18:53.257771",
          "status": "completed"
        },
        "tags": [],
        "colab": {
          "base_uri": "https://localhost:8080/",
          "height": 592
        },
        "id": "44133902",
        "outputId": "e09c2c11-dc3a-4499-fd66-0594ab97eb3c"
      },
      "outputs": [
        {
          "output_type": "display_data",
          "data": {
            "text/plain": [
              "<Figure size 864x720 with 2 Axes>"
            ],
            "image/png": "[encoded data removed]"
          },
          "metadata": {
            "needs_background": "light"
          }
        }
      ],
      "source": [
        "corr = df.corr()\n",
        "plt.figure(figsize=(12, 10))\n",
        "\n",
        "sns.heatmap(corr[(corr >= 0.3) | (corr <= -0.3)], cmap='viridis', vmax=1.0, vmin=-1.0, linewidths=0.1,annot=True, annot_kws={\"size\": 8}, square=True);"
      ]
    },
    {
      "cell_type": "code",
      "execution_count": 17,
      "id": "4f4d4da2",
      "metadata": {
        "execution": {
          "iopub.execute_input": "2022-08-14T08:18:53.702877Z",
          "iopub.status.busy": "2022-08-14T08:18:53.702369Z",
          "iopub.status.idle": "2022-08-14T08:18:53.711306Z",
          "shell.execute_reply": "2022-08-14T08:18:53.710368Z"
        },
        "papermill": {
          "duration": 0.02708,
          "end_time": "2022-08-14T08:18:53.713563",
          "exception": false,
          "start_time": "2022-08-14T08:18:53.686483",
          "status": "completed"
        },
        "tags": [],
        "id": "4f4d4da2"
      },
      "outputs": [],
      "source": [
        "X = df[['pH', 'Temprature', 'Taste', 'Odor', 'Fat ', 'Turbidity', 'Colour']]\n",
        "y = df[['Grade']]"
      ]
    },
    {
      "cell_type": "code",
      "execution_count": 18,
      "id": "37913d2e",
      "metadata": {
        "execution": {
          "iopub.execute_input": "2022-08-14T08:18:53.743868Z",
          "iopub.status.busy": "2022-08-14T08:18:53.743218Z",
          "iopub.status.idle": "2022-08-14T08:18:53.818739Z",
          "shell.execute_reply": "2022-08-14T08:18:53.816699Z"
        },
        "papermill": {
          "duration": 0.095029,
          "end_time": "2022-08-14T08:18:53.822564",
          "exception": false,
          "start_time": "2022-08-14T08:18:53.727535",
          "status": "completed"
        },
        "tags": [],
        "colab": {
          "base_uri": "https://localhost:8080/"
        },
        "id": "37913d2e",
        "outputId": "d519ae5e-76bc-4121-b12d-393de008cea7"
      },
      "outputs": [
        {
          "output_type": "stream",
          "name": "stdout",
          "text": [
            "(741, 7)\n",
            "(741, 1)\n",
            "(318, 7)\n",
            "(318, 1)\n"
          ]
        }
      ],
      "source": [
        "### Standardization of data ###\n",
        "### We does not standardize the Target variable for classification\n",
        "from sklearn.preprocessing import StandardScaler\n",
        "PredictorScaler=StandardScaler()\n",
        " \n",
        "# Storing the fit object for later reference\n",
        "PredictorScalerFit=PredictorScaler.fit(X)\n",
        " \n",
        "# Generating the standardized values of X and y\n",
        "X=PredictorScalerFit.transform(X)\n",
        " \n",
        "# Split the data into training and testing set\n",
        "from sklearn.model_selection import train_test_split\n",
        "X_train, X_test, y_train, y_test = train_test_split(X, y, test_size=0.3, random_state=42)\n",
        " \n",
        "# Quick sanity check with the shapes of Training and Testing datasets\n",
        "print(X_train.shape)\n",
        "print(y_train.shape)\n",
        "print(X_test.shape)\n",
        "print(y_test.shape)"
      ]
    },
    {
      "cell_type": "markdown",
      "id": "e649adc2",
      "metadata": {
        "papermill": {
          "duration": 0.013659,
          "end_time": "2022-08-14T08:18:53.850976",
          "exception": false,
          "start_time": "2022-08-14T08:18:53.837317",
          "status": "completed"
        },
        "tags": [],
        "id": "e649adc2"
      },
      "source": [
        "# MODEL BUILDING"
      ]
    },
    {
      "cell_type": "markdown",
      "id": "979b1dde",
      "metadata": {
        "papermill": {
          "duration": 0.013386,
          "end_time": "2022-08-14T08:18:53.878212",
          "exception": false,
          "start_time": "2022-08-14T08:18:53.864826",
          "status": "completed"
        },
        "tags": [],
        "id": "979b1dde"
      },
      "source": [
        "# Decision tree classifier \n"
      ]
    },
    {
      "cell_type": "code",
      "execution_count": 19,
      "id": "c4e7fb3b",
      "metadata": {
        "execution": {
          "iopub.execute_input": "2022-08-14T08:18:53.908536Z",
          "iopub.status.busy": "2022-08-14T08:18:53.907675Z",
          "iopub.status.idle": "2022-08-14T08:18:54.092287Z",
          "shell.execute_reply": "2022-08-14T08:18:54.090767Z"
        },
        "papermill": {
          "duration": 0.203469,
          "end_time": "2022-08-14T08:18:54.095431",
          "exception": false,
          "start_time": "2022-08-14T08:18:53.891962",
          "status": "completed"
        },
        "tags": [],
        "id": "c4e7fb3b"
      },
      "outputs": [],
      "source": [
        "# training a DescisionTreeClassifier\n",
        "from sklearn.tree import DecisionTreeClassifier\n",
        "from sklearn.metrics import confusion_matrix\n",
        "dtree_model = DecisionTreeClassifier(max_depth = 2).fit(X_train, y_train)\n",
        "dtree_predictions = dtree_model.predict(X_test)"
      ]
    },
    {
      "cell_type": "code",
      "source": [
        "from sklearn.metrics import classification_report,ConfusionMatrixDisplay\n",
        "print(classification_report(y_test,dtree_predictions))\n",
        "print(ConfusionMatrixDisplay.from_predictions(y_test,dtree_predictions))"
      ],
      "metadata": {
        "colab": {
          "base_uri": "https://localhost:8080/",
          "height": 470
        },
        "id": "2oDoFPR58X3e",
        "outputId": "8ff14a56-b64f-4915-989f-19dd39c188a0"
      },
      "id": "2oDoFPR58X3e",
      "execution_count": 20,
      "outputs": [
        {
          "output_type": "stream",
          "name": "stdout",
          "text": [
            "              precision    recall  f1-score   support\n",
            "\n",
            "           0       0.00      0.00      0.00        76\n",
            "           1       1.00      0.76      0.86       115\n",
            "           2       0.55      1.00      0.71       127\n",
            "\n",
            "    accuracy                           0.67       318\n",
            "   macro avg       0.52      0.59      0.52       318\n",
            "weighted avg       0.58      0.67      0.59       318\n",
            "\n",
            "<sklearn.metrics._plot.confusion_matrix.ConfusionMatrixDisplay object at 0x7f1eac7ab3a0>\n"
          ]
        },
        {
          "output_type": "display_data",
          "data": {
            "text/plain": [
              "<Figure size 432x288 with 2 Axes>"
            ],
            "image/png": "[encoded data removed]"
          },
          "metadata": {
            "needs_background": "light"
          }
        }
      ]
    },
    {
      "cell_type": "markdown",
      "id": "13d65288",
      "metadata": {
        "papermill": {
          "duration": 0.013559,
          "end_time": "2022-08-14T08:18:54.161015",
          "exception": false,
          "start_time": "2022-08-14T08:18:54.147456",
          "status": "completed"
        },
        "tags": [],
        "id": "13d65288"
      },
      "source": [
        "# SVM (Support vector machine) classifier \n"
      ]
    },
    {
      "cell_type": "code",
      "execution_count": 21,
      "id": "1131e21e",
      "metadata": {
        "execution": {
          "iopub.execute_input": "2022-08-14T08:18:54.192283Z",
          "iopub.status.busy": "2022-08-14T08:18:54.190915Z",
          "iopub.status.idle": "2022-08-14T08:18:54.218378Z",
          "shell.execute_reply": "2022-08-14T08:18:54.217022Z"
        },
        "papermill": {
          "duration": 0.046679,
          "end_time": "2022-08-14T08:18:54.221529",
          "exception": false,
          "start_time": "2022-08-14T08:18:54.174850",
          "status": "completed"
        },
        "tags": [],
        "id": "1131e21e"
      },
      "outputs": [],
      "source": [
        "# training a linear SVM classifier\n",
        "from sklearn.svm import SVC\n",
        "svm_model_linear = SVC(kernel = 'linear', C = 1).fit(X_train, y_train)\n",
        "svm_predictions = svm_model_linear.predict(X_test)\n"
      ]
    },
    {
      "cell_type": "code",
      "source": [
        "print(classification_report(y_test,svm_predictions))\n",
        "print(ConfusionMatrixDisplay.from_predictions(y_test,svm_predictions))"
      ],
      "metadata": {
        "colab": {
          "base_uri": "https://localhost:8080/",
          "height": 470
        },
        "id": "JtiQt7857gjY",
        "outputId": "1e89df6e-c14d-4431-b5bf-af60a99ad709"
      },
      "id": "JtiQt7857gjY",
      "execution_count": 22,
      "outputs": [
        {
          "output_type": "stream",
          "name": "stdout",
          "text": [
            "              precision    recall  f1-score   support\n",
            "\n",
            "           0       0.71      0.92      0.80        76\n",
            "           1       0.90      0.85      0.88       115\n",
            "           2       0.95      0.83      0.89       127\n",
            "\n",
            "    accuracy                           0.86       318\n",
            "   macro avg       0.85      0.87      0.85       318\n",
            "weighted avg       0.88      0.86      0.86       318\n",
            "\n",
            "<sklearn.metrics._plot.confusion_matrix.ConfusionMatrixDisplay object at 0x7f1eabe889d0>\n"
          ]
        },
        {
          "output_type": "display_data",
          "data": {
            "text/plain": [
              "<Figure size 432x288 with 2 Axes>"
            ],
            "image/png": "[encoded data removed]"
          },
          "metadata": {
            "needs_background": "light"
          }
        }
      ]
    },
    {
      "cell_type": "markdown",
      "id": "a58e4638",
      "metadata": {
        "papermill": {
          "duration": 0.01392,
          "end_time": "2022-08-14T08:18:54.291348",
          "exception": false,
          "start_time": "2022-08-14T08:18:54.277428",
          "status": "completed"
        },
        "tags": [],
        "id": "a58e4638"
      },
      "source": [
        "# KNN (k-nearest neighbors) classifier \n"
      ]
    },
    {
      "cell_type": "code",
      "execution_count": 23,
      "id": "b37e03c4",
      "metadata": {
        "execution": {
          "iopub.execute_input": "2022-08-14T08:18:54.322852Z",
          "iopub.status.busy": "2022-08-14T08:18:54.321879Z",
          "iopub.status.idle": "2022-08-14T08:18:54.358780Z",
          "shell.execute_reply": "2022-08-14T08:18:54.357157Z"
        },
        "papermill": {
          "duration": 0.056553,
          "end_time": "2022-08-14T08:18:54.362252",
          "exception": false,
          "start_time": "2022-08-14T08:18:54.305699",
          "status": "completed"
        },
        "tags": [],
        "id": "b37e03c4"
      },
      "outputs": [],
      "source": [
        "# training a KNN classifier\n",
        "from sklearn.neighbors import KNeighborsClassifier\n",
        "knn = KNeighborsClassifier(n_neighbors = 7).fit(X_train, y_train)\n",
        "knn_predictions = knn.predict(X_test)   "
      ]
    },
    {
      "cell_type": "code",
      "source": [
        "print(classification_report(y_test,knn_predictions))\n",
        "print(ConfusionMatrixDisplay.from_predictions(y_test,knn_predictions))"
      ],
      "metadata": {
        "colab": {
          "base_uri": "https://localhost:8080/",
          "height": 470
        },
        "id": "GAgOUNvY74bv",
        "outputId": "1bd25bc3-c5cc-4fda-cb8d-620311dc20fa"
      },
      "id": "GAgOUNvY74bv",
      "execution_count": 24,
      "outputs": [
        {
          "output_type": "stream",
          "name": "stdout",
          "text": [
            "              precision    recall  f1-score   support\n",
            "\n",
            "           0       0.99      0.91      0.95        76\n",
            "           1       1.00      0.97      0.99       115\n",
            "           2       0.93      1.00      0.97       127\n",
            "\n",
            "    accuracy                           0.97       318\n",
            "   macro avg       0.97      0.96      0.97       318\n",
            "weighted avg       0.97      0.97      0.97       318\n",
            "\n",
            "<sklearn.metrics._plot.confusion_matrix.ConfusionMatrixDisplay object at 0x7f1eb2288dc0>\n"
          ]
        },
        {
          "output_type": "display_data",
          "data": {
            "text/plain": [
              "<Figure size 432x288 with 2 Axes>"
            ],
            "image/png": "[encoded data removed]"
          },
          "metadata": {
            "needs_background": "light"
          }
        }
      ]
    },
    {
      "cell_type": "markdown",
      "id": "ab5034bd",
      "metadata": {
        "papermill": {
          "duration": 0.014852,
          "end_time": "2022-08-14T08:18:54.392104",
          "exception": false,
          "start_time": "2022-08-14T08:18:54.377252",
          "status": "completed"
        },
        "tags": [],
        "id": "ab5034bd"
      },
      "source": [
        "# Naive Bayes classifier \n"
      ]
    },
    {
      "cell_type": "code",
      "execution_count": 25,
      "id": "54fd3dc2",
      "metadata": {
        "execution": {
          "iopub.execute_input": "2022-08-14T08:18:54.423447Z",
          "iopub.status.busy": "2022-08-14T08:18:54.422244Z",
          "iopub.status.idle": "2022-08-14T08:18:54.437561Z",
          "shell.execute_reply": "2022-08-14T08:18:54.436122Z"
        },
        "papermill": {
          "duration": 0.033706,
          "end_time": "2022-08-14T08:18:54.440243",
          "exception": false,
          "start_time": "2022-08-14T08:18:54.406537",
          "status": "completed"
        },
        "tags": [],
        "id": "54fd3dc2"
      },
      "outputs": [],
      "source": [
        "# training a Naive Bayes classifier\n",
        "from sklearn.naive_bayes import GaussianNB\n",
        "gnb = GaussianNB().fit(X_train, y_train)\n",
        "gnb_predictions = gnb.predict(X_test)\n"
      ]
    },
    {
      "cell_type": "code",
      "execution_count": 26,
      "id": "ad307f9e",
      "metadata": {
        "papermill": {
          "duration": 0.014041,
          "end_time": "2022-08-14T08:18:54.469492",
          "exception": false,
          "start_time": "2022-08-14T08:18:54.455451",
          "status": "completed"
        },
        "tags": [],
        "colab": {
          "base_uri": "https://localhost:8080/",
          "height": 470
        },
        "id": "ad307f9e",
        "outputId": "73d13eda-22c3-4305-e96b-de88d8912a1a"
      },
      "outputs": [
        {
          "output_type": "stream",
          "name": "stdout",
          "text": [
            "              precision    recall  f1-score   support\n",
            "\n",
            "           0       0.86      0.84      0.85        76\n",
            "           1       0.94      0.94      0.94       115\n",
            "           2       0.89      0.91      0.90       127\n",
            "\n",
            "    accuracy                           0.90       318\n",
            "   macro avg       0.90      0.90      0.90       318\n",
            "weighted avg       0.90      0.90      0.90       318\n",
            "\n",
            "<sklearn.metrics._plot.confusion_matrix.ConfusionMatrixDisplay object at 0x7f1eabeecdf0>\n"
          ]
        },
        {
          "output_type": "display_data",
          "data": {
            "text/plain": [
              "<Figure size 432x288 with 2 Axes>"
            ],
            "image/png": "[encoded data removed]"
          },
          "metadata": {
            "needs_background": "light"
          }
        }
      ],
      "source": [
        "print(classification_report(y_test,gnb_predictions))\n",
        "print(ConfusionMatrixDisplay.from_predictions(y_test,gnb_predictions))"
      ]
    },
    {
      "cell_type": "code",
      "execution_count": 27,
      "id": "a1818a65",
      "metadata": {
        "papermill": {
          "duration": 0.014243,
          "end_time": "2022-08-14T08:18:54.498390",
          "exception": false,
          "start_time": "2022-08-14T08:18:54.484147",
          "status": "completed"
        },
        "tags": [],
        "id": "a1818a65"
      },
      "outputs": [],
      "source": [
        "from sklearn.model_selection import cross_val_score"
      ]
    },
    {
      "cell_type": "code",
      "source": [
        "cross_val_score(SVC(gamma='auto'),X_train,y_train,cv=3)"
      ],
      "metadata": {
        "colab": {
          "base_uri": "https://localhost:8080/"
        },
        "id": "_xV0Z-dF7QeY",
        "outputId": "98ceb9a6-6c4a-4ca2-d6b7-4c49023b60ea"
      },
      "id": "_xV0Z-dF7QeY",
      "execution_count": 28,
      "outputs": [
        {
          "output_type": "execute_result",
          "data": {
            "text/plain": [
              "array([0.95951417, 0.92712551, 0.93117409])"
            ]
          },
          "metadata": {},
          "execution_count": 28
        }
      ]
    },
    {
      "cell_type": "code",
      "source": [
        "cross_val_score(KNeighborsClassifier(n_neighbors = 7),X_train,y_train,cv=3)"
      ],
      "metadata": {
        "colab": {
          "base_uri": "https://localhost:8080/"
        },
        "id": "TDwoUcGjFTj3",
        "outputId": "944a2b32-760f-469e-f830-22db70da185b"
      },
      "id": "TDwoUcGjFTj3",
      "execution_count": 29,
      "outputs": [
        {
          "output_type": "execute_result",
          "data": {
            "text/plain": [
              "array([0.99595142, 0.94331984, 0.96761134])"
            ]
          },
          "metadata": {},
          "execution_count": 29
        }
      ]
    },
    {
      "cell_type": "code",
      "source": [
        "cross_val_score(GaussianNB(),X_train,y_train,cv=3)"
      ],
      "metadata": {
        "colab": {
          "base_uri": "https://localhost:8080/"
        },
        "id": "JZxubtTt7SPf",
        "outputId": "65a7c7ce-2f53-4b86-af2a-e604180f66f4"
      },
      "id": "JZxubtTt7SPf",
      "execution_count": 30,
      "outputs": [
        {
          "output_type": "execute_result",
          "data": {
            "text/plain": [
              "array([0.93927126, 0.89878543, 0.82186235])"
            ]
          },
          "metadata": {},
          "execution_count": 30
        }
      ]
    },
    {
      "cell_type": "markdown",
      "source": [
        "KNeighborsClassifiers has better accuracy"
      ],
      "metadata": {
        "id": "9BiGUFztJkR5"
      },
      "id": "9BiGUFztJkR5"
    },
    {
      "cell_type": "code",
      "source": [
        "scores1 = cross_val_score(KNeighborsClassifier(n_neighbors = 7),X_train,y_train,cv=3)\n",
        "np.average(scores1)"
      ],
      "metadata": {
        "colab": {
          "base_uri": "https://localhost:8080/"
        },
        "id": "VnOU6rLJQEZX",
        "outputId": "d79f397a-d010-437f-fada-af8dc46cb1ae"
      },
      "id": "VnOU6rLJQEZX",
      "execution_count": 31,
      "outputs": [
        {
          "output_type": "execute_result",
          "data": {
            "text/plain": [
              "0.9689608636977058"
            ]
          },
          "metadata": {},
          "execution_count": 31
        }
      ]
    },
    {
      "cell_type": "code",
      "source": [
        "scores1 = cross_val_score(KNeighborsClassifier(n_neighbors = 7),X_train,y_train,cv=10)\n",
        "np.average(scores1)"
      ],
      "metadata": {
        "colab": {
          "base_uri": "https://localhost:8080/"
        },
        "id": "W7OhcqjdQEO1",
        "outputId": "10ab6a03-66b2-4afc-cf29-b98f23d16845"
      },
      "id": "W7OhcqjdQEO1",
      "execution_count": 32,
      "outputs": [
        {
          "output_type": "execute_result",
          "data": {
            "text/plain": [
              "0.9824504504504505"
            ]
          },
          "metadata": {},
          "execution_count": 32
        }
      ]
    },
    {
      "cell_type": "code",
      "source": [
        "scores1 = cross_val_score(KNeighborsClassifier(n_neighbors = 5),X_train,y_train,cv=10)\n",
        "np.average(scores1)"
      ],
      "metadata": {
        "colab": {
          "base_uri": "https://localhost:8080/"
        },
        "id": "G2QeQmwxQD4n",
        "outputId": "e7368059-55d4-4ca5-cb08-4928860a491f"
      },
      "id": "G2QeQmwxQD4n",
      "execution_count": 33,
      "outputs": [
        {
          "output_type": "execute_result",
          "data": {
            "text/plain": [
              "0.9851531531531531"
            ]
          },
          "metadata": {},
          "execution_count": 33
        }
      ]
    },
    {
      "cell_type": "code",
      "source": [
        "scores1 = cross_val_score(KNeighborsClassifier(n_neighbors = 2),X_train,y_train,cv=10)\n",
        "np.average(scores1)"
      ],
      "metadata": {
        "colab": {
          "base_uri": "https://localhost:8080/"
        },
        "id": "MsfKYF_E7Swo",
        "outputId": "9d88922d-9309-4da1-dc69-8c3053b275d0"
      },
      "id": "MsfKYF_E7Swo",
      "execution_count": 34,
      "outputs": [
        {
          "output_type": "execute_result",
          "data": {
            "text/plain": [
              "0.9972972972972972"
            ]
          },
          "metadata": {},
          "execution_count": 34
        }
      ]
    },
    {
      "cell_type": "markdown",
      "source": [
        "**Here we used cross_val_score to fine tune our KNeighborsClassifier and got an accuracy of 99.7%**\n",
        "\n"
      ],
      "metadata": {
        "id": "B8o86eFkJ1fQ"
      },
      "id": "B8o86eFkJ1fQ"
    }
  ],
  "metadata": {
    "kernelspec": {
      "display_name": "Python 3",
      "language": "python",
      "name": "python3"
    },
    "language_info": {
      "codemirror_mode": {
        "name": "ipython",
        "version": 3
      },
      "file_extension": ".py",
      "mimetype": "text/x-python",
      "name": "python",
      "nbconvert_exporter": "python",
      "pygments_lexer": "ipython3",
      "version": "3.7.12"
    },
    "papermill": {
      "default_parameters": {},
      "duration": 24.981913,
      "end_time": "2022-08-14T08:18:55.940395",
      "environment_variables": {},
      "exception": null,
      "input_path": "__notebook__.ipynb",
      "output_path": "__notebook__.ipynb",
      "parameters": {},
      "start_time": "2022-08-14T08:18:30.958482",
      "version": "2.3.4"
    },
    "colab": {
      "provenance": [],
      "include_colab_link": true
    }
  },
  "nbformat": 4,
  "nbformat_minor": 5
}